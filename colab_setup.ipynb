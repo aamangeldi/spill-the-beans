{
 "cells": [
  {
   "cell_type": "markdown",
   "metadata": {},
   "source": [
    "# Spill the Beans: RAG Privacy Attack - Colab Setup\n",
    "\n",
    "This notebook sets up and runs the RAG privacy attack experiments on Google Colab.\n",
    "\n",
    "**GPU Required**: Go to Runtime > Change runtime type > Select GPU (T4 is sufficient for 7B models)"
   ]
  },
  {
   "cell_type": "markdown",
   "metadata": {},
   "source": [
    "## 1. Clone Repository"
   ]
  },
  {
   "cell_type": "code",
   "execution_count": null,
   "metadata": {},
   "outputs": [],
   "source": "!git clone https://github.com/aamangeldi/spill-the-beans.git\n%cd spill-the-beans"
  },
  {
   "cell_type": "markdown",
   "metadata": {},
   "source": [
    "## 2. Install Dependencies"
   ]
  },
  {
   "cell_type": "code",
   "execution_count": null,
   "metadata": {},
   "outputs": [],
   "source": "!pip install -e ."
  },
  {
   "cell_type": "markdown",
   "metadata": {},
   "source": [
    "## 3. Verify GPU Availability"
   ]
  },
  {
   "cell_type": "code",
   "execution_count": null,
   "metadata": {},
   "outputs": [],
   "source": [
    "import torch\n",
    "print(f\"CUDA available: {torch.cuda.is_available()}\")\n",
    "if torch.cuda.is_available():\n",
    "    print(f\"GPU: {torch.cuda.get_device_name(0)}\")\n",
    "    print(f\"Memory: {torch.cuda.get_device_properties(0).total_memory / 1e9:.2f} GB\")"
   ]
  },
  {
   "cell_type": "markdown",
   "metadata": {},
   "source": [
    "## 4. Run Quick Test (10 samples)\n",
    "\n",
    "Test with a small model first to verify everything works."
   ]
  },
  {
   "cell_type": "code",
   "execution_count": null,
   "metadata": {},
   "outputs": [],
   "source": [
    "!python src/main.py --models mistral-7b --num-samples 10"
   ]
  },
  {
   "cell_type": "markdown",
   "metadata": {},
   "source": [
    "## 5. View Results"
   ]
  },
  {
   "cell_type": "code",
   "execution_count": null,
   "metadata": {},
   "outputs": [],
   "source": [
    "!python src/view_results.py"
   ]
  },
  {
   "cell_type": "markdown",
   "metadata": {},
   "source": [
    "## 6. Run Full Experiment (Optional)\n",
    "\n",
    "Run a single model with more samples (takes ~20-30 minutes for 7B models)."
   ]
  },
  {
   "cell_type": "code",
   "execution_count": null,
   "metadata": {},
   "outputs": [],
   "source": [
    "!python src/main.py --models llama2-7b --num-samples 100"
   ]
  },
  {
   "cell_type": "markdown",
   "metadata": {},
   "source": [
    "## 7. Run Multiple Models (Advanced)\n",
    "\n",
    "**Warning**: This will take several hours. Colab free tier may timeout.\n",
    "\n",
    "For 13B+ models, you'll need Colab Pro with A100 GPU."
   ]
  },
  {
   "cell_type": "code",
   "execution_count": null,
   "metadata": {},
   "outputs": [],
   "source": [
    "# 7B models only (fits in T4 GPU)\n",
    "!python src/main.py --models llama2-7b mistral-7b --num-samples 50"
   ]
  },
  {
   "cell_type": "markdown",
   "metadata": {},
   "source": [
    "## 8. Download Results\n",
    "\n",
    "Download results to your local machine."
   ]
  },
  {
   "cell_type": "code",
   "execution_count": null,
   "metadata": {},
   "outputs": [],
   "source": [
    "from google.colab import files\n",
    "import glob\n",
    "\n",
    "# Zip all results\n",
    "!zip -r results.zip results/\n",
    "\n",
    "# Download\n",
    "files.download('results.zip')"
   ]
  }
 ],
 "metadata": {
  "accelerator": "GPU",
  "colab": {
   "gpuType": "T4",
   "provenance": []
  },
  "kernelspec": {
   "display_name": "Python 3",
   "name": "python3"
  },
  "language_info": {
   "name": "python"
  }
 },
 "nbformat": 4,
 "nbformat_minor": 0
}