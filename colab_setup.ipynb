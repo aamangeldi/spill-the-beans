{
 "cells": [
  {
   "cell_type": "markdown",
   "metadata": {},
   "source": [
    "# Spill the Beans: RAG Privacy Attack - Colab Setup\n",
    "\n",
    "This notebook reproduces Table 1 from the paper \"Follow My Instruction and Spill the Beans\" (ICLR 2025).\n",
    "\n",
    "**GPU Required**: \n",
    "- **7B models**: Runtime > Change runtime type > T4 GPU\n",
    "- **13B models**: Runtime > Change runtime type > A100 GPU (Colab Pro required)"
   ]
  },
  {
   "cell_type": "markdown",
   "metadata": {},
   "source": [
    "## 1. Clone Repository"
   ]
  },
  {
   "cell_type": "code",
   "execution_count": null,
   "metadata": {},
   "outputs": [],
   "source": [
    "!git clone https://github.com/aamangeldi/spill-the-beans.git\n",
    "%cd spill-the-beans"
   ]
  },
  {
   "cell_type": "markdown",
   "metadata": {},
   "source": [
    "## 2. Install Dependencies"
   ]
  },
  {
   "cell_type": "code",
   "execution_count": null,
   "metadata": {},
   "outputs": [],
   "source": [
    "!pip install -e ."
   ]
  },
  {
   "cell_type": "markdown",
   "metadata": {},
   "source": [
    "## 2b. Authenticate with HuggingFace (Required for Llama2)\n",
    "\n",
    "**Important**: Llama2 models require HuggingFace authentication and access approval.\n",
    "\n",
    "**Option 1: Use Colab Secrets (Recommended)**\n",
    "1. Get your token at: https://huggingface.co/settings/tokens\n",
    "2. In Colab: Click 🔑 (Key icon) in left sidebar → \"Add new secret\"\n",
    "3. Name: `HF_TOKEN`, Value: paste your token\n",
    "4. Enable notebook access (toggle switch)\n",
    "5. Run the cell below (auto-detects secret)\n",
    "\n",
    "**Option 2: Manual Login**\n",
    "If you don't have a secret set up, you'll be prompted to enter your token.\n",
    "\n",
    "**Then request Llama2 access (one-time, usually instant):**\n",
    "- Visit [Llama2-7B](https://huggingface.co/meta-llama/Llama-2-7b-chat-hf)\n",
    "- Fill out the access request form (name, email, affiliation, intended use)\n",
    "- Click \"Submit\" - approval is usually instant\n",
    "- This grants access to **all** Llama2 models (7B, 13B, etc.)\n",
    "\n",
    "**Note**: Other models (Mistral, SOLAR, Vicuna, Mixtral, WizardLM) work without authentication."
   ]
  },
  {
   "cell_type": "code",
   "execution_count": null,
   "metadata": {},
   "outputs": [],
   "source": [
    "from huggingface_hub import notebook_login\n",
    "import os\n",
    "\n",
    "# Try to use Colab secret first (more convenient)\n",
    "try:\n",
    "    from google.colab import userdata\n",
    "    hf_token = userdata.get('HF_TOKEN')\n",
    "    if hf_token:\n",
    "        os.environ['HF_TOKEN'] = hf_token\n",
    "        print(\"✓ Using HF_TOKEN from Colab secrets\")\n",
    "    else:\n",
    "        raise KeyError(\"HF_TOKEN not found\")\n",
    "except (ImportError, KeyError):\n",
    "    # Fall back to interactive login\n",
    "    print(\"No HF_TOKEN secret found. Please enter your token manually:\")\n",
    "    notebook_login()"
   ]
  },
  {
   "cell_type": "markdown",
   "metadata": {},
   "source": [
    "## 3. Verify GPU Availability"
   ]
  },
  {
   "cell_type": "code",
   "execution_count": null,
   "metadata": {},
   "outputs": [],
   "source": [
    "import torch\n",
    "print(f\"CUDA available: {torch.cuda.is_available()}\")\n",
    "if torch.cuda.is_available():\n",
    "    print(f\"GPU: {torch.cuda.get_device_name(0)}\")\n",
    "    print(f\"Memory: {torch.cuda.get_device_properties(0).total_memory / 1e9:.2f} GB\")"
   ]
  },
  {
   "cell_type": "markdown",
   "metadata": {},
   "source": [
    "## 4. Quick Test (10 samples)\n",
    "\n",
    "Test with Mistral-7B to verify everything works (~5 minutes).\n",
    "\n",
    "**Note**: This test doesn't require HuggingFace authentication (Mistral is public)."
   ]
  },
  {
   "cell_type": "code",
   "execution_count": null,
   "metadata": {},
   "outputs": [],
   "source": [
    "!python src/main.py --models mistral-7b --num-samples 10"
   ]
  },
  {
   "cell_type": "markdown",
   "metadata": {},
   "source": [
    "## 5. Reproduce Table 1\n",
    "\n",
    "Run all models from the paper to reproduce Table 1.\n",
    "\n",
    "**Prerequisites**: \n",
    "- ✅ Complete Step 2b (HuggingFace authentication) for Llama2 models\n",
    "- ✅ A100 GPU required for 13B models and Mixtral-8x7b\n",
    "\n",
    "**Total time**: ~4-5 hours on A100 GPU\n",
    "\n",
    "**Models tested**:\n",
    "- **7B**: Llama2-7B, Mistral-7B\n",
    "- **10.7B**: SOLAR-10.7B  \n",
    "- **13B**: Llama2-13B, Vicuna-13B, WizardLM-13B\n",
    "- **8x7B**: Mixtral-8x7B (with automatic 4-bit quantization)\n",
    "\n",
    "**Note**: Using 100 samples instead of 230 for faster runtime while maintaining statistical significance.\n",
    "\n",
    "**Mixtral-8x7b**: Automatically uses 4-bit quantization to fit in A100 (40GB VRAM). Results may differ slightly from paper's fp16 implementation."
   ]
  },
  {
   "cell_type": "code",
   "execution_count": null,
   "metadata": {},
   "outputs": [],
   "source": [
    "!python src/main.py --models llama2-7b mistral-7b solar-10.7b llama2-13b vicuna-13b mixtral-8x7b wizardlm-13b --num-samples 100"
   ]
  },
  {
   "cell_type": "markdown",
   "metadata": {},
   "source": [
    "## 6. View Final Results\n",
    "\n",
    "Display all experiment results in a summary table."
   ]
  },
  {
   "cell_type": "code",
   "execution_count": null,
   "metadata": {},
   "outputs": [],
   "source": [
    "!python src/view_results.py"
   ]
  },
  {
   "cell_type": "markdown",
   "metadata": {},
   "source": [
    "## 7. Download Results\n",
    "\n",
    "Download all experiment results as a zip file."
   ]
  },
  {
   "cell_type": "code",
   "execution_count": null,
   "metadata": {},
   "outputs": [],
   "source": [
    "from google.colab import files\n",
    "\n",
    "# Zip all results\n",
    "!zip -r results.zip results/\n",
    "\n",
    "# Download\n",
    "files.download('results.zip')"
   ]
  }
 ],
 "metadata": {
  "kernelspec": {
   "display_name": "Python 3",
   "language": "python",
   "name": "python3"
  },
  "language_info": {
   "name": "python",
   "version": "3.10.0"
  }
 },
 "nbformat": 4,
 "nbformat_minor": 2
}
