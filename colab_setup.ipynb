{
 "cells": [
  {
   "cell_type": "markdown",
   "metadata": {},
   "source": [
    "# Spill the Beans: RAG Privacy Attack - Colab Setup\n",
    "\n",
    "This notebook reproduces Table 1 from the paper \"Follow My Instruction and Spill the Beans\" (ICLR 2025).\n",
    "\n",
    "**GPU Required**: \n",
    "- **7B models**: Runtime > Change runtime type > T4 GPU\n",
    "- **13B models**: Runtime > Change runtime type > A100 GPU (Colab Pro required)"
   ]
  },
  {
   "cell_type": "markdown",
   "metadata": {},
   "source": [
    "## 1. Clone Repository"
   ]
  },
  {
   "cell_type": "code",
   "execution_count": null,
   "metadata": {},
   "outputs": [],
   "source": [
    "!git clone https://github.com/aamangeldi/spill-the-beans.git\n",
    "%cd spill-the-beans"
   ]
  },
  {
   "cell_type": "markdown",
   "metadata": {},
   "source": [
    "## 2. Install Dependencies"
   ]
  },
  {
   "cell_type": "code",
   "execution_count": null,
   "metadata": {},
   "outputs": [],
   "source": [
    "!pip install -e ."
   ]
  },
  {
   "cell_type": "markdown",
   "metadata": {},
   "source": [
    "## 3. Verify GPU Availability"
   ]
  },
  {
   "cell_type": "code",
   "execution_count": null,
   "metadata": {},
   "outputs": [],
   "source": [
    "import torch\n",
    "print(f\"CUDA available: {torch.cuda.is_available()}\")\n",
    "if torch.cuda.is_available():\n",
    "    print(f\"GPU: {torch.cuda.get_device_name(0)}\")\n",
    "    print(f\"Memory: {torch.cuda.get_device_properties(0).total_memory / 1e9:.2f} GB\")"
   ]
  },
  {
   "cell_type": "markdown",
   "metadata": {},
   "source": [
    "## 4. Quick Test (10 samples)\n",
    "\n",
    "Test with Mistral-7B to verify everything works (~5 minutes)."
   ]
  },
  {
   "cell_type": "code",
   "execution_count": null,
   "metadata": {},
   "outputs": [],
   "source": [
    "!python src/main.py --models mistral-7b --num-samples 10"
   ]
  },
  {
   "cell_type": "code",
   "execution_count": null,
   "metadata": {},
   "outputs": [],
   "source": [
    "!python src/view_results.py"
   ]
  },
  {
   "cell_type": "markdown",
   "metadata": {},
   "source": [
    "## 5. Reproduce Table 1 (50 samples)\n",
    "\n",
    "Run all models from the paper to reproduce Table 1.\n",
    "\n",
    "**Total time**: ~4-5 hours on A100 GPU\n",
    "\n",
    "**Models tested**:\n",
    "- **7B**: Llama2-7B, Mistral-7B\n",
    "- **10.7B**: SOLAR-10.7B  \n",
    "- **13B**: Llama2-13B, Vicuna-13B, WizardLM-13B\n",
    "- **8x7B**: Mixtral-8x7B (with automatic 4-bit quantization)\n",
    "\n",
    "**Note**: Using 50 samples instead of 230 for faster runtime while maintaining statistical significance.\n",
    "\n",
    "**Mixtral-8x7b**: Automatically uses 4-bit quantization to fit in A100 (40GB VRAM). Results may differ slightly from paper's fp16 implementation."
   ]
  },
  {
   "cell_type": "code",
   "execution_count": null,
   "metadata": {},
   "outputs": [],
   "source": [
    "!python src/main.py --models llama2-7b mistral-7b solar-10.7b llama2-13b vicuna-13b mixtral-8x7b wizardlm-13b --num-samples 50"
   ]
  },
  {
   "cell_type": "markdown",
   "metadata": {},
   "source": [
    "## 6. View Final Results\n",
    "\n",
    "Display all experiment results in a summary table."
   ]
  },
  {
   "cell_type": "code",
   "execution_count": null,
   "metadata": {},
   "outputs": [],
   "source": [
    "!python src/view_results.py"
   ]
  },
  {
   "cell_type": "markdown",
   "metadata": {},
   "source": [
    "## 7. Download Results\n",
    "\n",
    "Download all experiment results as a zip file."
   ]
  },
  {
   "cell_type": "code",
   "execution_count": null,
   "metadata": {},
   "outputs": [],
   "source": [
    "from google.colab import files\n",
    "\n",
    "# Zip all results\n",
    "!zip -r results.zip results/\n",
    "\n",
    "# Download\n",
    "files.download('results.zip')"
   ]
  }
 ],
 "metadata": {
  "kernelspec": {
   "display_name": "Python 3",
   "language": "python",
   "name": "python3"
  },
  "language_info": {
   "name": "python",
   "version": "3.10.0"
  }
 },
 "nbformat": 4,
 "nbformat_minor": 2
}
